{
 "cells": [
  {
   "cell_type": "markdown",
   "id": "76b23452",
   "metadata": {},
   "source": [
    "### 1. What are escape characters, and how do you use them?"
   ]
  },
  {
   "cell_type": "raw",
   "id": "f8f1cc39",
   "metadata": {},
   "source": [
    "'\\' are escape charecters. Escape charecters are used to add charecters which would normally be impossible to use in a string.\n",
    "Escape charecters consists of \\ followed by a charecter that you may want to add to the string.\n",
    "We can use them to add tab space (\\t) , \n",
    "move to new line after start/end of sting (\\n) , \n",
    "put single quotes and double quotes inside your strings using escape characters \\' and \\\" respectively etc.\n",
    "\n",
    "Escape charecters are not appliacable in case of raw strings(r'This is raw sting') since they print the string as it is , if blaackslash is added, it will not be proccessed but peinted/returned as it is."
   ]
  },
  {
   "cell_type": "code",
   "execution_count": 15,
   "id": "0bd8653e",
   "metadata": {},
   "outputs": [
    {
     "name": "stdout",
     "output_type": "stream",
     "text": [
      "This is raw sting\\ts\n",
      "This is raw sting\ts\n"
     ]
    }
   ],
   "source": [
    "# Example :\n",
    "print(r'This is raw sting\\ts')\n",
    "print(f'This is raw sting\\ts')"
   ]
  },
  {
   "cell_type": "markdown",
   "id": "652ae628",
   "metadata": {},
   "source": [
    "### 2. What do the escape characters n and t stand for?"
   ]
  },
  {
   "cell_type": "code",
   "execution_count": null,
   "id": "85b87627",
   "metadata": {},
   "outputs": [],
   "source": [
    "\\n = new line \n",
    "\\t = tab space ( by default 4 spaces )"
   ]
  },
  {
   "cell_type": "markdown",
   "id": "c0c88c35",
   "metadata": {},
   "source": [
    "### 3. What is the way to include backslash characters in a string?"
   ]
  },
  {
   "cell_type": "raw",
   "id": "1310f76d",
   "metadata": {},
   "source": [
    "We can include backslash characters in a string by following way:\n",
    "print('Thear are blackslash charecter\\'s is this string '+'\\n')\n",
    "print(\"check\"+'\\t'+\"done\")"
   ]
  },
  {
   "cell_type": "markdown",
   "id": "41e0a23d",
   "metadata": {},
   "source": [
    "### 4. The string \"Howl's Moving Castle\" is a correct value. Why isn't the single quote character in the word Howl's not escaped a problem? "
   ]
  },
  {
   "cell_type": "raw",
   "id": "bdcb85b2",
   "metadata": {},
   "source": [
    "The single quote character in the word Howl's isn't a problem. Since the string begins and ends with a double quote,\n",
    "Python knows that the single quote is part of the string and not marking the end of the string."
   ]
  },
  {
   "cell_type": "markdown",
   "id": "4698f3ab",
   "metadata": {},
   "source": [
    "### 5. How do you write a string of newlines if you don't want to use the n character?"
   ]
  },
  {
   "cell_type": "raw",
   "id": "110ad2a1",
   "metadata": {},
   "source": [
    "we can use ''' ''' to enter multiple lines in string as shown below: "
   ]
  },
  {
   "cell_type": "code",
   "execution_count": 21,
   "id": "c245df54",
   "metadata": {},
   "outputs": [
    {
     "name": "stdout",
     "output_type": "stream",
     "text": [
      "This is an input\n",
      "For multiple line isnput testing\n",
      "with no us of n charecter or\n",
      "escape charecters       \n"
     ]
    }
   ],
   "source": [
    "s = '''This is an input\n",
    "For multiple line isnput testing\n",
    "with no us of n charecter or\n",
    "escape charecters       '''\n",
    "print(s)"
   ]
  },
  {
   "cell_type": "markdown",
   "id": "755b41eb",
   "metadata": {},
   "source": [
    "### 6. What are the values of the given expressions?"
   ]
  },
  {
   "cell_type": "raw",
   "id": "33a6e019",
   "metadata": {},
   "source": [
    "'Hello, world!'[1]\n",
    "'Hello, world!'[0:5]\n",
    "'Hello, world!'[:5]\n",
    "'Hello, world!'[3:] "
   ]
  },
  {
   "cell_type": "raw",
   "id": "f82907b1",
   "metadata": {},
   "source": [
    "1 - e\n",
    "2 - Hello\n",
    "3 - Hello\n",
    "4 - lo, world "
   ]
  },
  {
   "cell_type": "code",
   "execution_count": 22,
   "id": "e2221fba",
   "metadata": {},
   "outputs": [
    {
     "name": "stdout",
     "output_type": "stream",
     "text": [
      "e\n",
      "Hello\n",
      "Hello\n",
      "lo, world!\n"
     ]
    }
   ],
   "source": [
    "# comparing o/p\n",
    "print('Hello, world!'[1])\n",
    "print('Hello, world!'[0:5])\n",
    "print('Hello, world!'[:5])\n",
    "print('Hello, world!'[3:])"
   ]
  },
  {
   "cell_type": "markdown",
   "id": "2826333b",
   "metadata": {},
   "source": [
    "### 7. What are the values of the following expressions?"
   ]
  },
  {
   "cell_type": "raw",
   "id": "665f17df",
   "metadata": {},
   "source": [
    "'Hello'.upper()\n",
    "'Hello'.upper().isupper()\n",
    "'Hello'.upper().lower()"
   ]
  },
  {
   "cell_type": "raw",
   "id": "edc00e7a",
   "metadata": {},
   "source": [
    "1 - HELLO\n",
    "2 - True\n",
    "3 - hello"
   ]
  },
  {
   "cell_type": "code",
   "execution_count": 23,
   "id": "3a611589",
   "metadata": {},
   "outputs": [
    {
     "name": "stdout",
     "output_type": "stream",
     "text": [
      "HELLO\n",
      "True\n",
      "hello\n"
     ]
    }
   ],
   "source": [
    "print('Hello'.upper())\n",
    "print('Hello'.upper().isupper())\n",
    "print('Hello'.upper().lower())"
   ]
  },
  {
   "cell_type": "markdown",
   "id": "b1e6d23b",
   "metadata": {},
   "source": [
    "### 8. What are the values of the following expressions?"
   ]
  },
  {
   "cell_type": "raw",
   "id": "44d2f496",
   "metadata": {},
   "source": [
    "'Remember, remember, the fifth of July.'.split()\n",
    "'-'.join('There can only one.'.split())"
   ]
  },
  {
   "cell_type": "raw",
   "id": "34b21712",
   "metadata": {},
   "source": [
    "1 - ['Remember,' , 'remember,' , 'the' , 'fifth' , 'of' , 'July.']\n",
    "2 - There-can-only-one"
   ]
  },
  {
   "cell_type": "code",
   "execution_count": 24,
   "id": "6a4b14fc",
   "metadata": {},
   "outputs": [
    {
     "name": "stdout",
     "output_type": "stream",
     "text": [
      "['Remember,', 'remember,', 'the', 'fifth', 'of', 'July.']\n",
      "There-can-only-one.\n"
     ]
    }
   ],
   "source": [
    "print('Remember, remember, the fifth of July.'.split())\n",
    "print('-'.join('There can only one.'.split()))"
   ]
  },
  {
   "cell_type": "markdown",
   "id": "90590ef7",
   "metadata": {},
   "source": [
    "### 9. What are the methods for right-justifying, left-justifying, and centering a string?"
   ]
  },
  {
   "cell_type": "raw",
   "id": "9beb788e",
   "metadata": {},
   "source": [
    "The methods for right-justifying, left-justifying, and centering a string has been demostrated below with an example :"
   ]
  },
  {
   "cell_type": "code",
   "execution_count": 32,
   "id": "9cdedad8",
   "metadata": {},
   "outputs": [
    {
     "name": "stdout",
     "output_type": "stream",
     "text": [
      "str******\n",
      "------str\n",
      "|||str|||\n"
     ]
    }
   ],
   "source": [
    "s='str'\n",
    "\n",
    "# right-justifying -\n",
    "print(s.ljust(9,'*'))\n",
    "# left-justifying - \n",
    "print(s.rjust(9,'-'))\n",
    "# centering a string - \n",
    "print(s.center(9,'|'))"
   ]
  },
  {
   "cell_type": "markdown",
   "id": "95d99c35",
   "metadata": {},
   "source": [
    "### 10. What is the best way to remove whitespace characters from the start or end?"
   ]
  },
  {
   "cell_type": "raw",
   "id": "bbef3157",
   "metadata": {},
   "source": [
    "The best way to remove whitespace characters from the start or end are using lstrip() or rstrip() function respectively. \n",
    "To remove spaces completely use strip() function"
   ]
  }
 ],
 "metadata": {
  "kernelspec": {
   "display_name": "Python 3 (ipykernel)",
   "language": "python",
   "name": "python3"
  },
  "language_info": {
   "codemirror_mode": {
    "name": "ipython",
    "version": 3
   },
   "file_extension": ".py",
   "mimetype": "text/x-python",
   "name": "python",
   "nbconvert_exporter": "python",
   "pygments_lexer": "ipython3",
   "version": "3.9.7"
  }
 },
 "nbformat": 4,
 "nbformat_minor": 5
}
