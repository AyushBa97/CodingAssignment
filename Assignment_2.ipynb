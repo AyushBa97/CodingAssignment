{
 "cells": [
  {
   "cell_type": "markdown",
   "id": "0f94eea4",
   "metadata": {},
   "source": [
    "## 1.What are the two values of the Boolean data type? How do you write them?"
   ]
  },
  {
   "cell_type": "raw",
   "id": "1d16e43b",
   "metadata": {},
   "source": [
    "Solution:\n",
    "There are two values of a Boolean Data Type:\n",
    "True –-> 1\n",
    "False --> 0\n",
    "\n",
    "We can write them as following:\n",
    "True, 1\n",
    "False, 0"
   ]
  },
  {
   "cell_type": "markdown",
   "id": "e99745d6",
   "metadata": {},
   "source": [
    "## 2. What are the three different types of Boolean operators?"
   ]
  },
  {
   "cell_type": "raw",
   "id": "af967635",
   "metadata": {},
   "source": [
    "Solution:\n",
    "AND , OR , NOT"
   ]
  },
  {
   "cell_type": "markdown",
   "id": "e2b84bda",
   "metadata": {},
   "source": [
    "## 3. Make a list of each Boolean operator's truth tables (i.e. every possible combination of Boolean values for the operator and what it evaluate )."
   ]
  },
  {
   "cell_type": "raw",
   "id": "4a99ca95",
   "metadata": {},
   "source": [
    "Solution:\n",
    "AND\n",
    "A B   A*B\n",
    "0 0    0\n",
    "1 0    0\n",
    "0 1    0\n",
    "1 1    1\n",
    "\n",
    "OR\n",
    "A B   A+B\n",
    "0 0    0\n",
    "1 0    1\n",
    "0 1    1\n",
    "1 1    1\n",
    "\n",
    "NOT\n",
    "A    NOT A\n",
    "0     1\n",
    "1     0"
   ]
  },
  {
   "cell_type": "markdown",
   "id": "0a83748f",
   "metadata": {},
   "source": [
    "## 4. What are the values of the following expressions?"
   ]
  },
  {
   "cell_type": "raw",
   "id": "c8c341cd",
   "metadata": {},
   "source": [
    "(5 > 4) and (3 == 5) \n",
    "not (5 > 4) \n",
    "(5 > 4) or (3 == 5) -\n",
    "not ((5 > 4) or (3 == 5)) \n",
    "(True and True) and (True == False) \n",
    "(not False) or (not True) \n",
    "\n",
    "\n",
    "Solution:\n",
    "EXPRESSION                             OUTPUT\n",
    "(5 > 4) and (3 == 5)                   False\n",
    "not (5 > 4)                            False\n",
    "(5 > 4) or (3 == 5)                    True\n",
    "not ((5 > 4) or (3 == 5))              False\n",
    "(True and True) and (True == False)    False\n",
    "(not False) or (not True)              True\n",
    "\n"
   ]
  },
  {
   "cell_type": "markdown",
   "id": "bbe45e7b",
   "metadata": {},
   "source": [
    "## 5. What are the six comparison operators?"
   ]
  },
  {
   "cell_type": "markdown",
   "id": "11550ca9",
   "metadata": {},
   "source": [
    "Solution:\n",
    "== , != , < , > , >=, <= "
   ]
  },
  {
   "cell_type": "markdown",
   "id": "50e9bb8c",
   "metadata": {},
   "source": [
    "## 6. How do you tell the difference between the equal to and assignment operators?Describe a condition and when you would use one."
   ]
  },
  {
   "cell_type": "raw",
   "id": "5592d8e0",
   "metadata": {},
   "source": [
    "Solution:\n",
    "Assignment operator is used to assign values (on RHS of =) to variable/operand (LHS of =). An address in memory is allocated for storing data for a variable. \n",
    "Eg: a = 16\n",
    "\n",
    "Equality operator is used for comparison between two objects. Object can be an integer or string or a user defines class. \n",
    "Eg: a == 1"
   ]
  },
  {
   "cell_type": "markdown",
   "id": "2680a0c3",
   "metadata": {},
   "source": [
    "## 7. Identify the three blocks in this code:"
   ]
  },
  {
   "cell_type": "raw",
   "id": "3f524c64",
   "metadata": {},
   "source": [
    "spam = 0\n",
    "if spam == 10:\n",
    "    print('eggs')\n",
    "if spam > 5:\n",
    "    print('bacon')\n",
    "else:\n",
    "    print('ham')\n",
    "    print('spam')\n",
    "    print('spam')\n",
    "\n",
    "Solution:\n",
    "else:\n",
    "  print('ham')\n",
    "  print('spam')\n",
    "  print('spam')\n",
    "\n",
    "Output:\n",
    "print('ham')\n",
    "print('spam')\n",
    "print('spam')\n",
    "\n"
   ]
  },
  {
   "cell_type": "markdown",
   "id": "4ccf20ab",
   "metadata": {},
   "source": [
    "## 8. Write code that prints Hello if 1 is stored in spam, prints Howdy if 2 is stored in spam, and prints Greetings! if anything else is stored in spam."
   ]
  },
  {
   "cell_type": "code",
   "execution_count": 5,
   "id": "06651301",
   "metadata": {},
   "outputs": [
    {
     "name": "stdout",
     "output_type": "stream",
     "text": [
      "Hello\n",
      "Howdy\n",
      "Greetings!\n"
     ]
    }
   ],
   "source": [
    "#Solution:\n",
    "def func(spam):\n",
    "\n",
    "  if spam == 1:\n",
    "    print(\"Hello\")\n",
    "  elif spam == 2:\n",
    "    print(\"Howdy\")\n",
    "  else:\n",
    "    print(\"Greetings!\")\n",
    "    \n",
    "func(1)\n",
    "func(2)\n",
    "func(3)"
   ]
  },
  {
   "cell_type": "markdown",
   "id": "d6356515",
   "metadata": {},
   "source": [
    "## 9.If your programme is stuck in an endless loop, what keys you’ll press?"
   ]
  },
  {
   "cell_type": "raw",
   "id": "af9a0901",
   "metadata": {},
   "source": [
    "Solution:\n",
    "Ctrl + C"
   ]
  },
  {
   "cell_type": "markdown",
   "id": "d7980165",
   "metadata": {},
   "source": [
    "## 10. How can you tell the difference between break and continue?"
   ]
  },
  {
   "cell_type": "raw",
   "id": "404dac44",
   "metadata": {},
   "source": [
    "Solution:\n",
    "Break statement breaks out of the loop \n",
    "Continue statement continues to the next iteration in the loop ."
   ]
  },
  {
   "cell_type": "markdown",
   "id": "bb43d2cd",
   "metadata": {},
   "source": [
    "## 11. In a for loop, what is the difference between range(10), range(0, 10), and range(0, 10, 1)?"
   ]
  },
  {
   "cell_type": "code",
   "execution_count": null,
   "id": "2d870efd",
   "metadata": {},
   "outputs": [],
   "source": [
    "Solution:\n",
    "range(10) , range(0, 10) and range(0, 10, 1) all work the same way and provide the same output.\n",
    "\n",
    "Explanation:\n",
    "range(10)    \n",
    "In above range function we have defined the index we want the function to end i.e. 9 [(n-1)].\n",
    "\n",
    "range(0, 10)\n",
    "In the above range function we have defined the starting point i.e.  0 and end point i.e. 9.\n",
    "\n",
    "range(0, 10, 1)\n",
    "In the above range function we have defined the starting point i.e. 0, end point i.e. 9 and the number of steps/interval \n",
    "for next step i.e. 1 [ 1, 1+1=2, 2+1=3 here +1 is used to shown the increment in steps]."
   ]
  },
  {
   "cell_type": "markdown",
   "id": "b2176dad",
   "metadata": {},
   "source": [
    "## 12. Write a short program that prints the numbers 1 to 10 using a for loop. Then write an equivalent program that prints the numbers 1 to 10 using a while loop."
   ]
  },
  {
   "cell_type": "code",
   "execution_count": 4,
   "id": "844333fd",
   "metadata": {},
   "outputs": [
    {
     "name": "stdout",
     "output_type": "stream",
     "text": [
      "Using For loop\n",
      "0\n",
      "1\n",
      "2\n",
      "3\n",
      "4\n",
      "5\n",
      "6\n",
      "7\n",
      "8\n",
      "9\n",
      "10\n",
      "\n",
      "Using While Loop\n",
      "0\n",
      "1\n",
      "2\n",
      "3\n",
      "4\n",
      "5\n",
      "6\n",
      "7\n",
      "8\n",
      "9\n",
      "10\n"
     ]
    }
   ],
   "source": [
    "#Solution:\n",
    "print(\"Using For loop\")\n",
    "for i in range(11):\n",
    "  print(i)\n",
    "  \n",
    "print(\"\\nUsing While Loop\")\n",
    "i=0\n",
    "while i<=10:\n",
    "  print(i)\n",
    "  i += 1"
   ]
  },
  {
   "cell_type": "markdown",
   "id": "6e21c0d9",
   "metadata": {},
   "source": [
    "## 13. If you had a function named bacon() inside a module named spam, how would you call it after importing spam?"
   ]
  },
  {
   "cell_type": "code",
   "execution_count": null,
   "id": "0d98d640",
   "metadata": {},
   "outputs": [],
   "source": [
    "Solution:\n",
    "    \n",
    "from spam import bacon\n",
    "#\tOR\n",
    "import spam.bacon "
   ]
  }
 ],
 "metadata": {
  "kernelspec": {
   "display_name": "Python 3 (ipykernel)",
   "language": "python",
   "name": "python3"
  },
  "language_info": {
   "codemirror_mode": {
    "name": "ipython",
    "version": 3
   },
   "file_extension": ".py",
   "mimetype": "text/x-python",
   "name": "python",
   "nbconvert_exporter": "python",
   "pygments_lexer": "ipython3",
   "version": "3.9.7"
  }
 },
 "nbformat": 4,
 "nbformat_minor": 5
}
