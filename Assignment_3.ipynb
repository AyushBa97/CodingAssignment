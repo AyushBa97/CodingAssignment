{
 "cells": [
  {
   "cell_type": "markdown",
   "id": "65600d2c",
   "metadata": {},
   "source": [
    "###  1. Why are functions advantageous to have in your programs?"
   ]
  },
  {
   "cell_type": "markdown",
   "id": "47920234",
   "metadata": {},
   "source": [
    "Functions give the following advantage to a code :\n",
    "1> Reusuability : A code snippet can be reused by calling function throughout the code.\n",
    "2> Cleaner code : Makes the coding easy to organize and manage the code.\n",
    "3> We can provide multiple arguements / parameters to a function.\n",
    "4> Functions allow complex processes to be broken up into smaller steps/smaller snippet of code."
   ]
  },
  {
   "cell_type": "code",
   "execution_count": 11,
   "id": "b203e356",
   "metadata": {},
   "outputs": [
    {
     "name": "stdout",
     "output_type": "stream",
     "text": [
      "division by zero\n",
      "1.0\n"
     ]
    }
   ],
   "source": [
    "# Example :\n",
    "\n",
    "def func(a):\n",
    "    try:\n",
    "        divisibilityByTwo = 2/a\n",
    "        return divisibilityByTwo\n",
    "        \n",
    "    except Exception as e:\n",
    "        return e\n",
    "    \n",
    "print(func(0))\n",
    "print(func(2))"
   ]
  },
  {
   "cell_type": "markdown",
   "id": "0d3e3ed3",
   "metadata": {},
   "source": [
    "###  2. When does the code in a function run: when it's specified or when it's called?"
   ]
  },
  {
   "cell_type": "markdown",
   "id": "be07ad59",
   "metadata": {},
   "source": [
    "When the the function is called after that the function runs and returns an output"
   ]
  },
  {
   "cell_type": "code",
   "execution_count": 12,
   "id": "96d87acd",
   "metadata": {},
   "outputs": [
    {
     "name": "stdout",
     "output_type": "stream",
     "text": [
      "division by zero\n",
      "1.0\n"
     ]
    }
   ],
   "source": [
    "# Example :\n",
    "\n",
    "def func(a):\n",
    "    try:\n",
    "        divisibilityByTwo = 2/a\n",
    "        return divisibilityByTwo\n",
    "        \n",
    "    except Exception as e:\n",
    "        return e\n",
    "    \n",
    "print(func(0))\n",
    "print(func(2))"
   ]
  },
  {
   "cell_type": "markdown",
   "id": "eaf35dfd",
   "metadata": {},
   "source": [
    "###  3. What statement creates a function?"
   ]
  },
  {
   "cell_type": "markdown",
   "id": "afe86e2c",
   "metadata": {},
   "source": [
    "def statement creates function. Eg: def func() here a function 'func' has been defined with no parameters."
   ]
  },
  {
   "cell_type": "markdown",
   "id": "b1e02f45",
   "metadata": {},
   "source": [
    "###  4. What is the difference between a function and a function call?"
   ]
  },
  {
   "cell_type": "markdown",
   "id": "0aebb80c",
   "metadata": {},
   "source": [
    "Function is defining and writting code snippet within it which is evaluated/processes as soon as function is called and it returns a certain type of value. If parameters are included single or multile with repect to that the code proceeds to return an output. The idea of using function is to modularize the code, resue the code used for repeated taks with different inputs.\n",
    "\n",
    "Function Call is calling a function .This invokes the function logic and returns the result. "
   ]
  },
  {
   "cell_type": "code",
   "execution_count": 15,
   "id": "b643f057",
   "metadata": {},
   "outputs": [
    {
     "name": "stdout",
     "output_type": "stream",
     "text": [
      "\"Python is a high level language\" is string\n"
     ]
    }
   ],
   "source": [
    "#example:\n",
    "def func(a): # defining a function\n",
    "    return a + ' is string'\n",
    "    \n",
    "print(func('\"Python is a high level language\"')) # calling a function and printing the output"
   ]
  },
  {
   "cell_type": "markdown",
   "id": "0faf62e0",
   "metadata": {},
   "source": [
    "###  5. How many global scopes are there in a Python program? How many local scopes?"
   ]
  },
  {
   "cell_type": "markdown",
   "id": "0e6b59f4",
   "metadata": {},
   "source": [
    "Python Global/Module Scope\n",
    "There is one Global Scope in Python program.\n",
    "A variable created in the main body of the Python code is a global variable and belongs to the global scope.\n",
    "As an example, we have a python script testmodule.py given below.\n",
    "\n",
    "testmodule.py\n",
    "a = 30\n",
    "\n",
    "The a is referrs to the value 30 . Python is able to access this variable value as 30 throughout testmodule.py script. \n",
    "\n",
    "Python Local Scope:\n",
    "There can be multiple local scopes. They are created whenever a function is called\n",
    "During the definition of a function, the assignment operator creates a variable. These variables exist inside this function\n",
    "namespace. When the function is called, then only variables are created. So we can say, A function call leads to variable \n",
    "creation. This existence of the variable value inside the function and this particular region of scope is the pythons local\n",
    "scope."
   ]
  },
  {
   "cell_type": "markdown",
   "id": "48e5d344",
   "metadata": {},
   "source": [
    "###  6. What happens to variables in a local scope when the function call returns?"
   ]
  },
  {
   "cell_type": "raw",
   "id": "5932d674",
   "metadata": {},
   "source": [
    "When the function call returns, variable in the local scope are forgotten/cleared/deleted from the memory. Local scope is also cleared."
   ]
  },
  {
   "cell_type": "markdown",
   "id": "58872e1a",
   "metadata": {},
   "source": [
    "###  7. What is the concept of a return value? Is it possible to have a return value in an expression?"
   ]
  },
  {
   "cell_type": "markdown",
   "id": "08e6f7b0",
   "metadata": {},
   "source": [
    "Return value is the value returned by function on processing the code inside the function. Return value can be used as part of an expresssion."
   ]
  },
  {
   "cell_type": "code",
   "execution_count": 18,
   "id": "ec2b4724",
   "metadata": {},
   "outputs": [
    {
     "name": "stdout",
     "output_type": "stream",
     "text": [
      "\"Python is a high level language\" is string data type\n"
     ]
    }
   ],
   "source": [
    "#example:\n",
    "def func(a): # defining a function\n",
    "    return a + ' is string'\n",
    "    \n",
    "v = func('\"Python is a high level language\"') # calling a function and printing the output\n",
    "print(v +' data type')\n"
   ]
  },
  {
   "cell_type": "markdown",
   "id": "b91e6486",
   "metadata": {},
   "source": [
    "###  8. If a function does not have a return statement, what is the return value of a call to that function?"
   ]
  },
  {
   "cell_type": "raw",
   "id": "d90aa834",
   "metadata": {},
   "source": [
    "If a function does not have a return statement, retun value is None."
   ]
  },
  {
   "cell_type": "markdown",
   "id": "ac2ed7dd",
   "metadata": {},
   "source": [
    "###  9. How do you make a function variable refer to the global variable?"
   ]
  },
  {
   "cell_type": "raw",
   "id": "78c1cf24",
   "metadata": {},
   "source": [
    "A function variable is invoked when a function is called and cleared as function returns value. \n",
    "The local variable is applicable within the funcation namespace.\n",
    "If we need to create a global variable or change the value of a global variable within the local varibale\n",
    "use the global keyword."
   ]
  },
  {
   "cell_type": "markdown",
   "id": "3b39e110",
   "metadata": {},
   "source": [
    "###  10. What is the data type of None?"
   ]
  },
  {
   "cell_type": "raw",
   "id": "026bf484",
   "metadata": {},
   "source": [
    "None type data is data with no data value."
   ]
  },
  {
   "cell_type": "markdown",
   "id": "58109e45",
   "metadata": {},
   "source": [
    "###  11. What does the sentence import areallyourpetsnamederic do?"
   ]
  },
  {
   "cell_type": "raw",
   "id": "4eb75a51",
   "metadata": {},
   "source": [
    "'import areallyourpetsnamederic' means that import the module name 'areallyourpetsnamederic' in the current code in use."
   ]
  },
  {
   "cell_type": "markdown",
   "id": "d8082ce2",
   "metadata": {},
   "source": [
    "###  12. If you had a bacon() feature in a spam module, what would you call it after importing spam?"
   ]
  },
  {
   "cell_type": "raw",
   "id": "69fca0c8",
   "metadata": {},
   "source": [
    "from spam import bacon\n",
    "        OR\n",
    "import spam.bacon"
   ]
  },
  {
   "cell_type": "markdown",
   "id": "d7451b40",
   "metadata": {},
   "source": [
    "###  13. What can you do to save a programme from crashing if it encounters an error?"
   ]
  },
  {
   "cell_type": "raw",
   "id": "3ffefaeb",
   "metadata": {},
   "source": [
    "We can use try block to write the suspecious/misterious code, exception block will run on encountering an error and\n",
    "proceed as per the code in that block, finally will run irrspective of the condition on try and except block. "
   ]
  },
  {
   "cell_type": "markdown",
   "id": "68195504",
   "metadata": {},
   "source": [
    "### 14. What is the purpose of the try clause? What is the purpose of the except clause?"
   ]
  },
  {
   "cell_type": "raw",
   "id": "301a618c",
   "metadata": {},
   "source": [
    "We can use try block to write the suspecious/misterious code were it will keep on watch for any error/exception and \n",
    "on encountering such exception, the exception block will run, proceeding as per the code in that block,\n",
    "finally will run irrspective of the condition on try and except block. "
   ]
  }
 ],
 "metadata": {
  "kernelspec": {
   "display_name": "Python 3 (ipykernel)",
   "language": "python",
   "name": "python3"
  },
  "language_info": {
   "codemirror_mode": {
    "name": "ipython",
    "version": 3
   },
   "file_extension": ".py",
   "mimetype": "text/x-python",
   "name": "python",
   "nbconvert_exporter": "python",
   "pygments_lexer": "ipython3",
   "version": "3.9.7"
  }
 },
 "nbformat": 4,
 "nbformat_minor": 5
}
