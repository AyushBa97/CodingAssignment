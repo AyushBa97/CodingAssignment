{
 "cells": [
  {
   "cell_type": "markdown",
   "id": "c6267104",
   "metadata": {},
   "source": [
    "### 1. What exactly is []?"
   ]
  },
  {
   "cell_type": "raw",
   "id": "babc8af3",
   "metadata": {},
   "source": [
    "[] denotes an empty list\n",
    "\n",
    "Example:\n",
    "list_name=[]"
   ]
  },
  {
   "cell_type": "markdown",
   "id": "0be41480",
   "metadata": {},
   "source": [
    "### 2. In a list of values stored in a variable called spam, how would you assign the value 'hello' as the third value? (Assume [2, 4, 6, 8, 10] are in spam.)"
   ]
  },
  {
   "cell_type": "code",
   "execution_count": 2,
   "id": "432f4553",
   "metadata": {},
   "outputs": [
    {
     "name": "stdout",
     "output_type": "stream",
     "text": [
      "[2, 4, 'hello', 8, 10]\n"
     ]
    }
   ],
   "source": [
    "spam = [2,4,6,8,10]\n",
    "spam[2] = 'hello' # third value means position-1 i.e. index 2\n",
    "print(spam)"
   ]
  },
  {
   "cell_type": "markdown",
   "id": "f27ad3e7",
   "metadata": {},
   "source": [
    "### Let's pretend the spam includes the list ['a', 'b', 'c', 'd'] for the next three queries."
   ]
  },
  {
   "cell_type": "raw",
   "id": "6d7dbbe4",
   "metadata": {},
   "source": [
    "3. What is the value of spam[int(int('3' * 2) / 11)]?\n",
    "4. What is the value of spam[-1]?\n",
    "5. What is the value of spam[:2]?"
   ]
  },
  {
   "cell_type": "code",
   "execution_count": 4,
   "id": "8c77b4fa",
   "metadata": {},
   "outputs": [
    {
     "data": {
      "text/plain": [
       "'d'"
      ]
     },
     "execution_count": 4,
     "metadata": {},
     "output_type": "execute_result"
    }
   ],
   "source": [
    "spam = ['a', 'b', 'c', 'd']\n",
    "# solution 3 :\n",
    "\n",
    "spam[int(int('3' * 2) / 11)] # '3'*2 = '33' -> int('33') -> 33/11 -> 3 -> spam[3] is d"
   ]
  },
  {
   "cell_type": "code",
   "execution_count": 5,
   "id": "515d288c",
   "metadata": {},
   "outputs": [
    {
     "data": {
      "text/plain": [
       "'d'"
      ]
     },
     "execution_count": 5,
     "metadata": {},
     "output_type": "execute_result"
    }
   ],
   "source": [
    "# solution 4 :\n",
    "\n",
    "spam[-1] # return the last index value i.e. d"
   ]
  },
  {
   "cell_type": "code",
   "execution_count": 11,
   "id": "b0a0ab49",
   "metadata": {},
   "outputs": [
    {
     "data": {
      "text/plain": [
       "['a', 'b']"
      ]
     },
     "execution_count": 11,
     "metadata": {},
     "output_type": "execute_result"
    }
   ],
   "source": [
    "# solution 5 :\n",
    "\n",
    "spam[:2] # return the last from starting index 0 till 1 (index = position - 1)"
   ]
  },
  {
   "cell_type": "markdown",
   "id": "7ad5f280",
   "metadata": {},
   "source": [
    "### Let's pretend bacon has the list [3.14, 'cat,' 11, 'cat,' True] for the next three questions."
   ]
  },
  {
   "cell_type": "raw",
   "id": "203570d1",
   "metadata": {},
   "source": [
    "6. What is the value of bacon.index('cat')?\n",
    "7. How does bacon.append(99) change the look of the list value in bacon?\n",
    "8. How does bacon.remove('cat') change the look of the list in bacon?"
   ]
  },
  {
   "cell_type": "code",
   "execution_count": 57,
   "id": "81540206",
   "metadata": {},
   "outputs": [
    {
     "data": {
      "text/plain": [
       "1"
      ]
     },
     "execution_count": 57,
     "metadata": {},
     "output_type": "execute_result"
    }
   ],
   "source": [
    "bacon = [3.14, 'cat', 11, 'cat', True] \n",
    "\n",
    "# solution 6 :\n",
    "\n",
    "bacon.index('cat') # returns the first appearancce of the index value w.r.t the arguement in index method. "
   ]
  },
  {
   "cell_type": "code",
   "execution_count": 58,
   "id": "cf194757",
   "metadata": {},
   "outputs": [
    {
     "data": {
      "text/plain": [
       "[3.14, 'cat', 11, 'cat', True, 99]"
      ]
     },
     "execution_count": 58,
     "metadata": {},
     "output_type": "execute_result"
    }
   ],
   "source": [
    "# solution 7 :\n",
    "\n",
    "bacon.append(99) # returns the appended list with the last index's value being 99.\n",
    "bacon"
   ]
  },
  {
   "cell_type": "code",
   "execution_count": 59,
   "id": "f4715966",
   "metadata": {},
   "outputs": [
    {
     "data": {
      "text/plain": [
       "[3.14, 11, 'cat', True, 99]"
      ]
     },
     "execution_count": 59,
     "metadata": {},
     "output_type": "execute_result"
    }
   ],
   "source": [
    "# solution 8 :\n",
    "\n",
    "bacon.remove('cat') # returns the list with the first occurance of the item 'cat' being removed.\n",
    "bacon"
   ]
  },
  {
   "cell_type": "markdown",
   "id": "95fed70d",
   "metadata": {},
   "source": [
    "### 9. What are the list concatenation and list replication operators?"
   ]
  },
  {
   "cell_type": "code",
   "execution_count": 60,
   "id": "30931aa3",
   "metadata": {},
   "outputs": [
    {
     "name": "stdout",
     "output_type": "stream",
     "text": [
      "['a', 'b', 'c', 'd', 3.14, 'cat', 11, 'cat', True]\n",
      "['a', 'b', 'c', 'd', 'a', 'b', 'c', 'd']\n"
     ]
    }
   ],
   "source": [
    "spam = ['a', 'b', 'c', 'd']\n",
    "bacon = [3.14, 'cat', 11, 'cat', True] \n",
    "\n",
    "list_concadination = spam + bacon\n",
    "print(list_concadination)\n",
    "\n",
    "list_replication = spam * 2\n",
    "print(list_replication)"
   ]
  },
  {
   "cell_type": "markdown",
   "id": "59b69ef1",
   "metadata": {},
   "source": [
    "### 10. What is difference between the list methods append() and insert()?"
   ]
  },
  {
   "cell_type": "code",
   "execution_count": 61,
   "id": "ec962252",
   "metadata": {},
   "outputs": [
    {
     "data": {
      "text/plain": [
       "[3.14, 'cat', 22, 11, 'cat', True, 99]"
      ]
     },
     "execution_count": 61,
     "metadata": {},
     "output_type": "execute_result"
    }
   ],
   "source": [
    "bacon = [3.14, 'cat', 11, 'cat', True] \n",
    "\n",
    "# append method apends the new value to the end of the list being appeneded.Does not remove exsisting value.\n",
    "bacon.append(99) \n",
    "bacon\n",
    "\n",
    "# insert method inserts value to an index in list w.r.t arguement in the index method.Does not remove exsisting value.\n",
    "bacon.insert(2,22)\n",
    "bacon"
   ]
  },
  {
   "cell_type": "markdown",
   "id": "26c9ca04",
   "metadata": {},
   "source": [
    "### 11. What are the two methods for removing items from a list?"
   ]
  },
  {
   "cell_type": "raw",
   "id": "f35d4553",
   "metadata": {},
   "source": [
    "The two methods for removing items from a list are:\n",
    "clear method : This method clears the complete list, all the items are removed and the list is empty after the execution\n",
    "of this method.\n",
    "\n",
    "pop method : This method removes the element of the last index each run . The list with the remaining elements \n",
    "is available after executuion of this method.\n",
    "\n",
    "delete method : This method deleted the value of the index mention in the list parameter . The remaining list remains intact."
   ]
  },
  {
   "cell_type": "code",
   "execution_count": 62,
   "id": "535b3ccb",
   "metadata": {},
   "outputs": [
    {
     "name": "stdout",
     "output_type": "stream",
     "text": [
      "[]\n",
      "[3.14, 'cat', 11, 'cat']\n",
      "[3.14, 'cat', 11, True]\n"
     ]
    }
   ],
   "source": [
    "# clear method\n",
    "bacon = [3.14, 'cat', 11, 'cat', True]\n",
    "bacon.clear()\n",
    "print(bacon)\n",
    "\n",
    "# pop method\n",
    "bacon = [3.14, 'cat', 11, 'cat', True]\n",
    "bacon.pop()\n",
    "print(bacon)\n",
    "\n",
    "# delete method\n",
    "bacon = [3.14, 'cat', 11, 'cat', True]\n",
    "del bacon[3]\n",
    "print(bacon)"
   ]
  },
  {
   "cell_type": "markdown",
   "id": "a6eef899",
   "metadata": {},
   "source": [
    "### 12. Describe how list values and string values are identical."
   ]
  },
  {
   "cell_type": "raw",
   "id": "a6e8b88d",
   "metadata": {},
   "source": [
    "List and String values are identical in following ways :\n",
    "1> Both items of list and string can be manupulated by list and string slicing operation respectively.\n",
    "2> Both items of list and string are iterable so they can be used in for loop.\n",
    "3> Both items of list and string can be used with in and not in operator.\n",
    "4> Both items of list and string are able to pass by value in len function."
   ]
  },
  {
   "cell_type": "markdown",
   "id": "671c987b",
   "metadata": {},
   "source": [
    "### 13. What's the difference between tuples and lists?"
   ]
  },
  {
   "cell_type": "raw",
   "id": "260b7370",
   "metadata": {},
   "source": [
    "Tuples and list are differnt as in List are mutable yet tuples are immutable in nature but both indexing and slicing \n",
    "features are applicable to list and tuple.\n",
    "\n",
    "Example :\n",
    "List - [1,2,3,4]\n",
    "Tuples - (1,2,3,4)"
   ]
  },
  {
   "cell_type": "markdown",
   "id": "10d8fe5d",
   "metadata": {},
   "source": [
    "### 14. How do you type a tuple value that only contains the integer 42?"
   ]
  },
  {
   "cell_type": "code",
   "execution_count": 63,
   "id": "1041ceec",
   "metadata": {},
   "outputs": [],
   "source": [
    "tup1=(42)\n",
    "tup2=(42,)"
   ]
  },
  {
   "cell_type": "markdown",
   "id": "bf6fec27",
   "metadata": {},
   "source": [
    "### 15. How do you get a list value's tuple form? How do you get a tuple value's list form?"
   ]
  },
  {
   "cell_type": "code",
   "execution_count": 54,
   "id": "02fe1d0a",
   "metadata": {},
   "outputs": [
    {
     "name": "stdout",
     "output_type": "stream",
     "text": [
      "[1, 2, 3, 4]\n",
      "(3.14, 'cat', 11, 'cat', True)\n"
     ]
    }
   ],
   "source": [
    "Tuples = (1,2,3,4)\n",
    "TupleToList = list(Tuples)\n",
    "print(TupleToList)\n",
    "\n",
    "bacon = [3.14, 'cat', 11, 'cat', True]\n",
    "ListToTuple = tuple(bacon)\n",
    "print(ListToTuple)"
   ]
  },
  {
   "cell_type": "markdown",
   "id": "4220dcd2",
   "metadata": {},
   "source": [
    "### 16. Variables that \"contain\" list values are not necessarily lists themselves. Instead, what do they contain?"
   ]
  },
  {
   "cell_type": "markdown",
   "id": "03188cd8",
   "metadata": {},
   "source": [
    "The variables that \"contain\" list values are not necessarily lists themselves, they are references to the list.\n",
    "These references will have ID numbers that Python uses internally."
   ]
  },
  {
   "cell_type": "markdown",
   "id": "99b4383f",
   "metadata": {},
   "source": [
    "### 17. How do you distinguish between copy.copy() and copy.deepcopy()?"
   ]
  },
  {
   "cell_type": "raw",
   "id": "69455a2b",
   "metadata": {},
   "source": [
    "Note : Import copy for using copy() and deppcopy functions of copy module.\n",
    "\n",
    "copy.copy() is a shallow copy of the list. A new list which is an exact copy of the list copied from is created .\n",
    "Changes in this new list does not effect the original list.\n",
    "\n",
    "copy.deepcopy() is a deep copy of the list. A new list which is an exact copy of the list copied from is created and \n",
    "along with that if in the original list, there is a list within a list, it copies the inner list as well."
   ]
  },
  {
   "cell_type": "code",
   "execution_count": 68,
   "id": "28edb075",
   "metadata": {},
   "outputs": [
    {
     "name": "stdout",
     "output_type": "stream",
     "text": [
      "[3.14, 'cat', 11, 'cat', True]\n",
      "[3.14, 'cat', 21, 'cat', True]\n"
     ]
    }
   ],
   "source": [
    "# example of copy.copy() function\n",
    "\n",
    "import copy\n",
    "bacon = [3.14, 'cat', 11, 'cat', True]\n",
    "copy_list = copy.copy(bacon)\n",
    "print(bacon)\n",
    "copy_list[2] = 21\n",
    "print(copy_list)\n"
   ]
  },
  {
   "cell_type": "code",
   "execution_count": 78,
   "id": "ae5d6748",
   "metadata": {},
   "outputs": [
    {
     "name": "stdout",
     "output_type": "stream",
     "text": [
      "[3.14, 'cat', [1, 2, 3, 4], 'cat', [True, False]]\n",
      "[3.14, 'cat', 21, 'cat', [True, False]]\n"
     ]
    }
   ],
   "source": [
    "# example of copy.deepcopy() function\n",
    "\n",
    "import copy\n",
    "bacon = [3.14, 'cat',[1,2,3,4], 'cat', [True,False]]\n",
    "deepcopy_list = copy.copy(bacon)\n",
    "print(bacon)\n",
    "deepcopy_list[2] = 21\n",
    "print(deepcopy_list)\n"
   ]
  }
 ],
 "metadata": {
  "kernelspec": {
   "display_name": "Python 3 (ipykernel)",
   "language": "python",
   "name": "python3"
  },
  "language_info": {
   "codemirror_mode": {
    "name": "ipython",
    "version": 3
   },
   "file_extension": ".py",
   "mimetype": "text/x-python",
   "name": "python",
   "nbconvert_exporter": "python",
   "pygments_lexer": "ipython3",
   "version": "3.9.7"
  }
 },
 "nbformat": 4,
 "nbformat_minor": 5
}
