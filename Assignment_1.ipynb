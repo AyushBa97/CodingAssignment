{
 "cells": [
  {
   "cell_type": "markdown",
   "id": "8ac9c58c",
   "metadata": {},
   "source": [
    "1. In the below elements which of them are values or an expression? eg:- values can be integer or string and expressions will be mathematical operators.\n",
    "* \n",
    "'hello'\n",
    "-87.8\n",
    "- \n",
    "/ \n",
    "+\t\n",
    "6 "
   ]
  },
  {
   "cell_type": "code",
   "execution_count": 1,
   "id": "d8acdfbb",
   "metadata": {},
   "outputs": [],
   "source": [
    "# 'hello', 87.8, 6 -- values\n",
    "# / -- expression"
   ]
  },
  {
   "cell_type": "markdown",
   "id": "8ebb22d9",
   "metadata": {},
   "source": [
    "2. What is the difference between string and variable?"
   ]
  },
  {
   "cell_type": "code",
   "execution_count": 2,
   "id": "d5a85e7c",
   "metadata": {},
   "outputs": [],
   "source": [
    "# Strings : It is a data type which stores data in string format.\n",
    "'str8'\n",
    "\n",
    "# Variables : It stores data of any format. \n",
    "a = 10\n",
    "dictionary = {'a':10, 'b':18}"
   ]
  },
  {
   "cell_type": "markdown",
   "id": "5a7a30fd",
   "metadata": {},
   "source": [
    "3. Describe three different data types."
   ]
  },
  {
   "cell_type": "code",
   "execution_count": 32,
   "id": "2f20b6e4",
   "metadata": {},
   "outputs": [],
   "source": [
    "#String Data Types\n",
    "# Strings : It is a data type which stores data in string format, string is mutable and can be manupulated as required.\n",
    "'str8'\n",
    "\n",
    "#Numeric Data Types\n",
    "# int : It is a data type which stores data in int format.\n",
    "2\n",
    "#float : It is a data type which stores data in float format.\n",
    "2.2\n",
    "\n",
    "#Dictinary Data Types\n",
    "#Stores collection if data in a key,value format and is mutable. It is a python inbuilt data type\n",
    "dictionary = {'a':10, 'b':18}\n",
    "\n",
    "#List Data Types\n",
    "#Stores collection of data of different types of data in list format and is mutable in nature.\n",
    "#It is a python inbuilt data type.Similar to an array in other programming language.\n",
    "lst = ['a',1,True,{'a':1}]"
   ]
  },
  {
   "cell_type": "markdown",
   "id": "42f77266",
   "metadata": {},
   "source": [
    "4. What is an expression made up of? What do all expressions do?"
   ]
  },
  {
   "cell_type": "code",
   "execution_count": 9,
   "id": "8b6baa55",
   "metadata": {},
   "outputs": [
    {
     "data": {
      "text/plain": [
       "25"
      ]
     },
     "execution_count": 9,
     "metadata": {},
     "output_type": "execute_result"
    }
   ],
   "source": [
    "''' Expressions are made of operator, operands,values,call to function. Expression perform calculation based on given intructions/operators\n",
    " following the bodmas rules, moving from Left hand side to Right hand size. '''\n",
    "\n",
    "# assigning int type value to a variable\n",
    "a = 10 \n",
    "b = 16\n",
    "\n",
    "# expression\n",
    "a+b-1 "
   ]
  },
  {
   "cell_type": "markdown",
   "id": "7f1ec456",
   "metadata": {},
   "source": [
    "5. This assignment statements, like spam = 10. What is the difference between an expression and a statement?"
   ]
  },
  {
   "cell_type": "code",
   "execution_count": 33,
   "id": "7c025edf",
   "metadata": {},
   "outputs": [
    {
     "data": {
      "text/plain": [
       "9"
      ]
     },
     "execution_count": 33,
     "metadata": {},
     "output_type": "execute_result"
    }
   ],
   "source": [
    "#statement :\n",
    "'''In this case the statement \"spam = 10\" signifies assigning value of particular data type to a variable. A statement is \n",
    "a instruction that python interpreter executes.There different types of statements in python like simple(s=1,pass,break) \n",
    ", expression(a+spam-b) ,multiline( a+\\ b), compound(while,if)'''\n",
    "spam = 10\n",
    "\n",
    "# expression : \n",
    "''' Expressions are made of operator, values,call to function and operands. Expression perform calculation based on\n",
    " given intructions/operators following the bodmas rules, moving from Left hand side to Right hand size. An expression\n",
    " statement evaluats expression list and returns a value after computing the expression as shown in an example below.'''\n",
    "\n",
    "a,b = 1,2\n",
    "# expression example :\n",
    "a+spam-b "
   ]
  },
  {
   "cell_type": "markdown",
   "id": "66d5b3d4",
   "metadata": {},
   "source": [
    "6. After running the following code, what does the variable bacon contain?\n",
    "bacon = 22\n",
    "bacon + 1"
   ]
  },
  {
   "cell_type": "code",
   "execution_count": 18,
   "id": "7fcb50e5",
   "metadata": {},
   "outputs": [
    {
     "data": {
      "text/plain": [
       "23"
      ]
     },
     "execution_count": 18,
     "metadata": {},
     "output_type": "execute_result"
    }
   ],
   "source": [
    "bacon = 22 \n",
    "bacon + 1\n",
    "\n",
    "# the expression gives a value of 23 as the output"
   ]
  },
  {
   "cell_type": "markdown",
   "id": "d9628c10",
   "metadata": {},
   "source": [
    "7. What should the values of the following two terms be?\n",
    "'spam' + 'spamspam'\n",
    "'spam' * 3"
   ]
  },
  {
   "cell_type": "code",
   "execution_count": 31,
   "id": "e80444a5",
   "metadata": {},
   "outputs": [
    {
     "data": {
      "text/plain": [
       "'spamspamspam'"
      ]
     },
     "execution_count": 31,
     "metadata": {},
     "output_type": "execute_result"
    }
   ],
   "source": [
    "'spam' + 'spamspam' \n",
    "'spam' * 3 # the expression multiplies string value 3 times\n",
    "\n",
    "#Both the above expression give the same value"
   ]
  },
  {
   "cell_type": "markdown",
   "id": "bc424a11",
   "metadata": {},
   "source": [
    "8. Why is eggs a valid variable name while 100 is invalid?"
   ]
  },
  {
   "cell_type": "code",
   "execution_count": 25,
   "id": "1deca2db",
   "metadata": {},
   "outputs": [],
   "source": [
    "#variable can have any name following the varable naming convention except keywords and integers which cannot be vaiable\n",
    "#eggs is a valid variable name \n",
    "#100eggs is not a valid variable name, starts with integer"
   ]
  },
  {
   "cell_type": "markdown",
   "id": "9b0c05ad",
   "metadata": {},
   "source": [
    "9. What three functions can be used to get the integer, floating-point number, or string version of a value?"
   ]
  },
  {
   "cell_type": "code",
   "execution_count": 26,
   "id": "3439a48b",
   "metadata": {},
   "outputs": [
    {
     "data": {
      "text/plain": [
       "''"
      ]
     },
     "execution_count": 26,
     "metadata": {},
     "output_type": "execute_result"
    }
   ],
   "source": [
    "int()  # This function is used to typecast/covert data into an integer type data \n",
    "float()  # This function is used to typecast/covert data into a float type data \n",
    "str()  # This function is used to typecast/covert data into a string type data "
   ]
  },
  {
   "cell_type": "markdown",
   "id": "9249978e",
   "metadata": {},
   "source": [
    "10. Why does this expression cause an error? How can you fix it?\n",
    "'I have eaten ' + 99 + ' burritos.'"
   ]
  },
  {
   "cell_type": "code",
   "execution_count": 28,
   "id": "cbc2fd9c",
   "metadata": {},
   "outputs": [
    {
     "data": {
      "text/plain": [
       "'I have eaten 99 burritos.'"
      ]
     },
     "execution_count": 28,
     "metadata": {},
     "output_type": "execute_result"
    }
   ],
   "source": [
    "#'I have eaten ' + 99 + ' burritos.' -- Error expression since we are tring to add/concadinate string and int type data.\n",
    "\n",
    "#Correcting the above mention expression by using str() function for typecasting int type data into a float type data\n",
    "'I have eaten ' + str(99) + ' burritos.'"
   ]
  }
 ],
 "metadata": {
  "kernelspec": {
   "display_name": "Python 3 (ipykernel)",
   "language": "python",
   "name": "python3"
  },
  "language_info": {
   "codemirror_mode": {
    "name": "ipython",
    "version": 3
   },
   "file_extension": ".py",
   "mimetype": "text/x-python",
   "name": "python",
   "nbconvert_exporter": "python",
   "pygments_lexer": "ipython3",
   "version": "3.9.7"
  }
 },
 "nbformat": 4,
 "nbformat_minor": 5
}
