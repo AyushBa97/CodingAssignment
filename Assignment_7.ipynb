{
 "cells": [
  {
   "cell_type": "markdown",
   "id": "b9eedb81",
   "metadata": {},
   "source": [
    "### 1. What is the name of the feature responsible for generating Regex objects?"
   ]
  },
  {
   "cell_type": "code",
   "execution_count": 2,
   "id": "20024636",
   "metadata": {},
   "outputs": [
    {
     "data": {
      "text/plain": [
       "re.compile(r'this is regex code', re.UNICODE)"
      ]
     },
     "execution_count": 2,
     "metadata": {},
     "output_type": "execute_result"
    }
   ],
   "source": [
    "import re\n",
    "pattern = 'this is regex code'\n",
    "re.compile(pattern)"
   ]
  },
  {
   "cell_type": "markdown",
   "id": "1d2f611c",
   "metadata": {},
   "source": [
    "### 2. Why do raw strings often appear in Regex objects?"
   ]
  },
  {
   "cell_type": "raw",
   "id": "ced37a8b",
   "metadata": {},
   "source": [
    "Raw strings are used to avoid using backslash twice or ignore escape charecters."
   ]
  },
  {
   "cell_type": "markdown",
   "id": "33a62529",
   "metadata": {},
   "source": [
    "### 3. What is the return value of the search() method?"
   ]
  },
  {
   "cell_type": "raw",
   "id": "901b75bc",
   "metadata": {},
   "source": [
    "return value is either True in which case the condition is met and the data is match is found \n",
    "else false and the return is null"
   ]
  },
  {
   "cell_type": "code",
   "execution_count": 14,
   "id": "f31550f2",
   "metadata": {},
   "outputs": [
    {
     "name": "stdout",
     "output_type": "stream",
     "text": [
      "is\n"
     ]
    }
   ],
   "source": [
    "import re\n",
    "pattern = 'this is regex code'\n",
    "k=re.compile(r'\\w{2}')\n",
    "m=k.search('is')\n",
    "print(m.group())"
   ]
  },
  {
   "cell_type": "markdown",
   "id": "09ed59a4",
   "metadata": {},
   "source": [
    "### 4. From a Match item, how do you get the actual strings that match the pattern? "
   ]
  },
  {
   "cell_type": "raw",
   "id": "f903054d",
   "metadata": {},
   "source": [
    "We use m.group() to get the actual string that match the pattern. We can also use re.findall() to get all the \n",
    "matching result. We can also use finditer to get the matching results as well."
   ]
  },
  {
   "cell_type": "markdown",
   "id": "688e9b8c",
   "metadata": {},
   "source": [
    "### 5. In the regex which created from the r'(\\d\\d\\d)-(\\d\\d\\d-\\d\\d\\d\\d)', what does group zero cover? Group 2? Group 1?"
   ]
  },
  {
   "cell_type": "raw",
   "id": "61627e54",
   "metadata": {},
   "source": [
    "re.group(0) - returns the group of numbers matching the pattern r'(\\d\\d\\d)-(\\d\\d\\d-\\d\\d\\d\\d)'.\n",
    "re.group(1) - returns the first group within the parentheses matching the pattern (\\d\\d\\d)\n",
    "re.group(2) - returns the second group within the parentheses matching the pattern (\\d\\d\\d-\\d\\d\\d\\d)"
   ]
  },
  {
   "cell_type": "markdown",
   "id": "282135e3",
   "metadata": {},
   "source": [
    "### 6. In standard expression syntax, parentheses and intervals have distinct meanings. How can you tell a regex that you want it to fit real parentheses and periods?"
   ]
  },
  {
   "cell_type": "raw",
   "id": "b047d562",
   "metadata": {},
   "source": [
    "we can add backslash behind the real parentheses and periods . Example :\n",
    "1> \\(, \\)\n",
    "2> \\| , \\,\n",
    "3> \\.. "
   ]
  },
  {
   "cell_type": "markdown",
   "id": "7aac1d1e",
   "metadata": {},
   "source": [
    "### 7. The findall() method returns a string list or a list of string tuples. What causes it to return one of the two options?"
   ]
  },
  {
   "cell_type": "raw",
   "id": "299ffa78",
   "metadata": {},
   "source": [
    "In case the pattern is divided using parentheses, it consideres each parenthese individually and groups them into tuple.\n",
    "r'\\(d{3})-(d{3})-(d{3})'\n",
    "In case the pattern is not divided using parentheses, it consideres all of them as a whole and groups them togather \n",
    "into list.\n",
    "r'\\d{3}-d{3}-d{3}'"
   ]
  },
  {
   "cell_type": "markdown",
   "id": "2126d2df",
   "metadata": {},
   "source": [
    "### 8. In standard expressions, what does the | character mean?"
   ]
  },
  {
   "cell_type": "raw",
   "id": "e7a2ecc0",
   "metadata": {},
   "source": [
    "| charecter matches \"either , or\" "
   ]
  },
  {
   "cell_type": "markdown",
   "id": "f1a9b56e",
   "metadata": {},
   "source": [
    "### 9. In regular expressions, what does the character stand for?"
   ]
  },
  {
   "cell_type": "raw",
   "id": "9726a4df",
   "metadata": {},
   "source": [
    "\\w - represents a-z , A-Z, 0-9, _"
   ]
  },
  {
   "cell_type": "markdown",
   "id": "8c40a3e7",
   "metadata": {},
   "source": [
    "### 10.In regular expressions, what is the difference between the + and * characters?"
   ]
  },
  {
   "cell_type": "raw",
   "id": "1ced3495",
   "metadata": {},
   "source": [
    "+ chareter in regex means if one or more than one\n",
    "* chareter in regex means if zero or one or more than one."
   ]
  },
  {
   "cell_type": "markdown",
   "id": "5d893821",
   "metadata": {},
   "source": [
    "### 11. What is the difference between {4} and {4,5} in regular expression?"
   ]
  },
  {
   "cell_type": "raw",
   "id": "7fc3825b",
   "metadata": {},
   "source": [
    "{4} means re.coompile will look for match of the exact charecter postion 0 to 3.\n",
    "\n",
    "{4,5} means that re.compile will look for match of the charecter position ranging between 4 to 5 where first position is minimum and second mosition is maximum in {4,5)"
   ]
  },
  {
   "cell_type": "markdown",
   "id": "41cfb6b3",
   "metadata": {},
   "source": [
    "### 12. What do you mean by the \\d, \\w, and \\s shorthand character classes signify in regular expressions?"
   ]
  },
  {
   "cell_type": "raw",
   "id": "db34c3e4",
   "metadata": {},
   "source": [
    "\\d - for any digits between 0-9\n",
    "\\w - for any charecters between A-Za-z, nummeric digit (0-9) or the underscore charecter (_). \n",
    "\\s - for space, tab or newline charecters"
   ]
  },
  {
   "cell_type": "markdown",
   "id": "0cc28482",
   "metadata": {},
   "source": [
    "### 13. What do means by \\D, \\W, and \\S shorthand character classes signify in regular expressions?"
   ]
  },
  {
   "cell_type": "raw",
   "id": "1c6908da",
   "metadata": {},
   "source": [
    "\\D - for any charecters not between 0-9\n",
    "\\W - for any charecters not between A-Za-z, nummeric digit or the underscore charecter. \n",
    "\\S - for any charecters not space , tab or newline charecters"
   ]
  },
  {
   "cell_type": "markdown",
   "id": "90f09655",
   "metadata": {},
   "source": [
    "### 14. What is the difference between .*? and .*?"
   ]
  },
  {
   "cell_type": "raw",
   "id": "247c55f3",
   "metadata": {},
   "source": [
    ".? -  it means that any wild charecters can be igroned .\n",
    ". - it means that all charectes are considered for matching except newline"
   ]
  },
  {
   "cell_type": "markdown",
   "id": "faee4f43",
   "metadata": {},
   "source": [
    "### 15. What is the syntax for matching both numbers and lowercase letters with a character class?"
   ]
  },
  {
   "cell_type": "raw",
   "id": "237dbf26",
   "metadata": {},
   "source": [
    "\\w"
   ]
  },
  {
   "cell_type": "markdown",
   "id": "20affe34",
   "metadata": {},
   "source": [
    "### 16. What is the procedure for making a normal expression in regax case insensitive?"
   ]
  },
  {
   "cell_type": "raw",
   "id": "ce05739a",
   "metadata": {},
   "source": [
    "we can use different kind of flags to make regex insesitive such as re.compile(r'^start',re.I) ignores charecter case."
   ]
  },
  {
   "cell_type": "markdown",
   "id": "d9e040b0",
   "metadata": {},
   "source": [
    "### 17. What does the . character normally match? What does it match if re.DOTALL is passed as 2nd argument in re.compile()?"
   ]
  },
  {
   "cell_type": "raw",
   "id": "171c34eb",
   "metadata": {},
   "source": [
    ". - it means that all charectes are considered for matching except newline\n",
    "if re.DOTALL is passed in that case all the charecters are matched including newline "
   ]
  },
  {
   "cell_type": "markdown",
   "id": "2b64f8c6",
   "metadata": {},
   "source": [
    "### 18. If numReg = re.compile(r'\\d+'), what will numRegex.sub('X', '11 drummers, 10 pipers, five rings, 4 hen') return?"
   ]
  },
  {
   "cell_type": "raw",
   "id": "877a74fd",
   "metadata": {},
   "source": [
    "the above code will return the string 'X drummers, X pipers, five rings, X hen' on digit re.compile matches to in given string.#"
   ]
  },
  {
   "cell_type": "markdown",
   "id": "93525899",
   "metadata": {},
   "source": [
    "### 19. What does passing re.VERBOSE as the 2nd argument to re.compile() allow to do?"
   ]
  },
  {
   "cell_type": "raw",
   "id": "e4dcba15",
   "metadata": {},
   "source": [
    "It allows to add white space and comments . #"
   ]
  },
  {
   "cell_type": "markdown",
   "id": "a9c801c8",
   "metadata": {},
   "source": [
    "### 20. How would you write a regex that match a number with comma for every three digits? It must match the given following:"
   ]
  },
  {
   "cell_type": "raw",
   "id": "e9da835d",
   "metadata": {},
   "source": [
    "'42'\n",
    "'1,234'\n",
    "'6,368,745'\n",
    "but not the following:\n",
    "'12,34,567' (which has only two digits between the commas)\n",
    "'1234' (which lacks commas)"
   ]
  },
  {
   "cell_type": "raw",
   "id": "0eec396f",
   "metadata": {},
   "source": [
    "pattern = re.compile(r'^\\d{1,3}9(,{3})*$') #"
   ]
  },
  {
   "cell_type": "markdown",
   "id": "67398a0a",
   "metadata": {},
   "source": [
    "### 21. How would you write a regex that matches the full name of someone whose last name is Watanabe? You can assume that the first name that comes before it will always be one word that begins with a capital letter. The regex must match the following:"
   ]
  },
  {
   "cell_type": "raw",
   "id": "84278714",
   "metadata": {},
   "source": [
    "'Haruto Watanabe'\n",
    "'Alice Watanabe'\n",
    "'RoboCop Watanabe'\n",
    "but not the following:\n",
    "'haruto Watanabe' (where the first name is not capitalized)\n",
    "'Mr. Watanabe' (where the preceding word has a nonletter character)\n",
    "'Watanabe' (which has no first name)\n",
    "'Haruto watanabe' (where Watanabe is not capitalized)"
   ]
  },
  {
   "cell_type": "raw",
   "id": "bac669a5",
   "metadata": {},
   "source": [
    "pattern = re.compile(r'[A-Za-z]+\\sWatanabe') #"
   ]
  },
  {
   "cell_type": "markdown",
   "id": "db44f04b",
   "metadata": {},
   "source": [
    "### 22. How would you write a regex that matches a sentence where the first word is either Alice, Bob, or Carol; the second word is either eats, pets, or throws; the third word is apples, cats, or baseballs; and the sentence ends with a period? This regex should be case-insensitive. It must match the following:"
   ]
  },
  {
   "cell_type": "raw",
   "id": "5b5572be",
   "metadata": {},
   "source": [
    "'Alice eats apples.'\n",
    "'Bob pets cats.'\n",
    "'Carol throws baseballs.'\n",
    "'Alice throws Apples.'\n",
    "'BOB EATS CATS.'\n",
    "but not the following:\n",
    "'RoboCop eats apples.'\n",
    "'ALICE THROWS FOOTBALLS.'\n",
    "'Carol eats 7 cats.'"
   ]
  },
  {
   "cell_type": "code",
   "execution_count": null,
   "id": "0552e198",
   "metadata": {},
   "outputs": [],
   "source": [
    "pattern = re.compile(r'(Alice|Bob|Carol)\\s(eats|pets|throws)\\s(apples|cats|baseballs)\\.',re.I) #"
   ]
  }
 ],
 "metadata": {
  "kernelspec": {
   "display_name": "Python 3 (ipykernel)",
   "language": "python",
   "name": "python3"
  },
  "language_info": {
   "codemirror_mode": {
    "name": "ipython",
    "version": 3
   },
   "file_extension": ".py",
   "mimetype": "text/x-python",
   "name": "python",
   "nbconvert_exporter": "python",
   "pygments_lexer": "ipython3",
   "version": "3.9.7"
  }
 },
 "nbformat": 4,
 "nbformat_minor": 5
}
