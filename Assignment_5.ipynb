{
 "cells": [
  {
   "cell_type": "markdown",
   "id": "6f7cc7e6",
   "metadata": {},
   "source": [
    "### 1. What does an empty dictionary's code look like?"
   ]
  },
  {
   "cell_type": "code",
   "execution_count": 5,
   "id": "885dacc5",
   "metadata": {},
   "outputs": [
    {
     "data": {
      "text/plain": [
       "{}"
      ]
     },
     "execution_count": 5,
     "metadata": {},
     "output_type": "execute_result"
    }
   ],
   "source": [
    "empty_dictionary = {}\n",
    "empty_dictionary"
   ]
  },
  {
   "cell_type": "markdown",
   "id": "223fa700",
   "metadata": {},
   "source": [
    "### 2. What is the value of a dictionary value with the key 'foo' and the value 42?"
   ]
  },
  {
   "cell_type": "code",
   "execution_count": 8,
   "id": "d0b1a33a",
   "metadata": {},
   "outputs": [
    {
     "data": {
      "text/plain": [
       "dict_values([42])"
      ]
     },
     "execution_count": 8,
     "metadata": {},
     "output_type": "execute_result"
    }
   ],
   "source": [
    "dictionary = {'foo' : 42}\n",
    "dictionary.values() # Value is 42"
   ]
  },
  {
   "cell_type": "markdown",
   "id": "0c878534",
   "metadata": {},
   "source": [
    "### 3. What is the most significant distinction between a dictionary and a list?"
   ]
  },
  {
   "cell_type": "raw",
   "id": "cfc33746",
   "metadata": {},
   "source": [
    "Significant distinction between a dictionary and list item are:\n",
    "If two list with same number of items with different orders were to be compared for equality, the result would be False\n",
    "In case of dictionary the same would be True since in dictionary items have the following chareteristics:\n",
    "    1>Items in dictionaty are unordered\n",
    "    2>Items in dictionaty are not sliceable unlike list items\n",
    "    3>Items in dictionaty are in key,value pair\n",
    "    4>Items in dictionaty can be accessed by using functions such as dict_name.keys(),dict_name.values(),dict_name.items(). "
   ]
  },
  {
   "cell_type": "markdown",
   "id": "54922355",
   "metadata": {},
   "source": [
    "### 4. What happens if you try to access spam['foo'] if spam is {'bar': 100}?"
   ]
  },
  {
   "cell_type": "raw",
   "id": "693d2e0b",
   "metadata": {},
   "source": [
    "It would give an error : key error , since the key is not availabe in the dictionary.\n",
    "spam = {'bar': 100}\n",
    "spam['foo'] "
   ]
  },
  {
   "cell_type": "markdown",
   "id": "7217bc32",
   "metadata": {},
   "source": [
    "### 5. If a dictionary is stored in spam, what is the difference between the expressions 'cat' in spam and 'cat' in spam.keys()?"
   ]
  },
  {
   "cell_type": "raw",
   "id": "d05e6a57",
   "metadata": {},
   "source": [
    "Both the expressrion evaluate the same that is check if the key named 'cat' is available in the dictionary 'spam' or not.\n",
    "To prove the above point mentioned lets take an example and run the following code :"
   ]
  },
  {
   "cell_type": "code",
   "execution_count": 15,
   "id": "0fea72dd",
   "metadata": {},
   "outputs": [
    {
     "name": "stdout",
     "output_type": "stream",
     "text": [
      "True\n",
      "True\n"
     ]
    }
   ],
   "source": [
    "spam = {'cat' : 'meow', 'dog' : 'bark', 'duck' : 'quack', 'hen' : 'coocoo'}\n",
    "print('cat' in spam)\n",
    "print('cat' in spam.keys())"
   ]
  },
  {
   "cell_type": "markdown",
   "id": "4a65c184",
   "metadata": {},
   "source": [
    "### 6. If a dictionary is stored in spam, what is the difference between the expressions 'cat' in spam and 'cat' in spam.values()?"
   ]
  },
  {
   "cell_type": "raw",
   "id": "35b69f08",
   "metadata": {},
   "source": [
    "'cat' in spam - this expressrion checks if the key named 'cat' is available in the dictionary 'spam' or not.\n",
    "'cat' in spam.values() - this expressrion checks if the value 'cat' is available in the dictionary 'spam' or not.\n",
    "\n",
    "To prove the above point mentioned lets take an example and run the following code :"
   ]
  },
  {
   "cell_type": "code",
   "execution_count": 19,
   "id": "097830b3",
   "metadata": {},
   "outputs": [
    {
     "name": "stdout",
     "output_type": "stream",
     "text": [
      "True\n",
      "False\n"
     ]
    }
   ],
   "source": [
    "spam = {'cat' : 'meow', 'dog' : 'bark', 'duck' : 'quack', 'hen' : 'coocoo'}\n",
    "print('cat' in spam)\n",
    "print('cat' in spam.values())"
   ]
  },
  {
   "cell_type": "markdown",
   "id": "ea06edd5",
   "metadata": {},
   "source": [
    "### 7. What is a shortcut for the following code?"
   ]
  },
  {
   "cell_type": "raw",
   "id": "4d25e6ed",
   "metadata": {},
   "source": [
    "if 'color' not in spam:\n",
    "spam['color'] = 'black'"
   ]
  },
  {
   "cell_type": "code",
   "execution_count": 21,
   "id": "d8423c02",
   "metadata": {},
   "outputs": [
    {
     "name": "stdout",
     "output_type": "stream",
     "text": [
      "{'cat': 'meow', 'dog': 'bark', 'duck': 'quack', 'hen': 'coocoo'}\n",
      "{'cat': 'meow', 'dog': 'bark', 'duck': 'quack', 'hen': 'coocoo', 'color': 'black'}\n"
     ]
    }
   ],
   "source": [
    "spam = {'cat' : 'meow', 'dog' : 'bark', 'duck' : 'quack', 'hen' : 'coocoo'}\n",
    "print(spam)\n",
    "spam.setdefault('color','black') # shortcut to the code asked in the question (7)\n",
    "print(spam)"
   ]
  },
  {
   "cell_type": "markdown",
   "id": "56bba7dd",
   "metadata": {},
   "source": [
    "### 8. How do you \"pretty print\" dictionary values using which module and function?"
   ]
  },
  {
   "cell_type": "code",
   "execution_count": 25,
   "id": "0e697dee",
   "metadata": {},
   "outputs": [
    {
     "name": "stdout",
     "output_type": "stream",
     "text": [
      "{'cat': 'meow', 'dog': 'bark', 'duck': 'quack', 'hen': 'coocoo'}\n"
     ]
    }
   ],
   "source": [
    "import pprint # using the pprint module we can use pretty print\n",
    "\n",
    "spam = {'cat' : 'meow', 'dog' : 'bark', 'duck' : 'quack', 'hen' : 'coocoo'}\n",
    "pprint.pprint(spam) # using pprint function in pprint module"
   ]
  }
 ],
 "metadata": {
  "kernelspec": {
   "display_name": "Python 3 (ipykernel)",
   "language": "python",
   "name": "python3"
  },
  "language_info": {
   "codemirror_mode": {
    "name": "ipython",
    "version": 3
   },
   "file_extension": ".py",
   "mimetype": "text/x-python",
   "name": "python",
   "nbconvert_exporter": "python",
   "pygments_lexer": "ipython3",
   "version": "3.9.7"
  }
 },
 "nbformat": 4,
 "nbformat_minor": 5
}
